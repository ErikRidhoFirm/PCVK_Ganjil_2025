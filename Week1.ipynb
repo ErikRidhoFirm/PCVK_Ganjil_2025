{
  "nbformat": 4,
  "nbformat_minor": 0,
  "metadata": {
    "colab": {
      "provenance": [],
      "authorship_tag": "ABX9TyN5XtyiT6IiLlQcsiwxEhi+",
      "include_colab_link": true
    },
    "kernelspec": {
      "name": "python3",
      "display_name": "Python 3"
    },
    "language_info": {
      "name": "python"
    }
  },
  "cells": [
    {
      "cell_type": "markdown",
      "metadata": {
        "id": "view-in-github",
        "colab_type": "text"
      },
      "source": [
        "<a href=\"https://colab.research.google.com/github/ErikRidhoFirm/PCVK_Ganjil_2025/blob/main/Week1.ipynb\" target=\"_parent\"><img src=\"https://colab.research.google.com/assets/colab-badge.svg\" alt=\"Open In Colab\"/></a>"
      ]
    },
    {
      "cell_type": "code",
      "execution_count": 3,
      "metadata": {
        "id": "TgepS92DpNUr"
      },
      "outputs": [],
      "source": [
        "import numpy as np\n",
        "import pandas as pd\n",
        "from google.colab.patches import cv2_imshow # for image display\n",
        "from skimage import io\n",
        "from skimage import transform\n",
        "from PIL import Image\n",
        "import matplotlib.pylab as plt"
      ]
    },
    {
      "cell_type": "code",
      "source": [
        "# membuat list untuk menyimpan url dari beberapa image\n",
        "\n",
        "urls = [\"https://iilf.lib.ncsu.edu/iiif/@@52574/full/800/,0/default.jpg\",\n",
        "\"https://iiif.lib.ncsu.edu/iiif/@@16887/full/800/,0/default.jpg\",\n",
        "\"https://placekitten.com/800/571\"]\n",
        "# baca dan tampilkan image\n",
        "# loop pada tiap url image, beberapa image dapat disimpan pada list\n",
        "for url in urls:\n",
        "  image = io.imread(url)        #read image\n",
        "  image = cv.resize(image, (0,0), fx=0.5)"
      ],
      "metadata": {
        "id": "jp8bmOUSqgLV"
      },
      "execution_count": null,
      "outputs": []
    }
  ]
}